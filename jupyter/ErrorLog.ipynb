{
 "cells": [
  {
   "cell_type": "code",
   "execution_count": 1,
   "metadata": {},
   "outputs": [],
   "source": [
    "import os\n",
    "import shutil\n",
    "import re"
   ]
  },
  {
   "cell_type": "code",
   "execution_count": 2,
   "metadata": {},
   "outputs": [
    {
     "data": {
      "text/plain": [
       "'/root/data/SE-VAE/jupyter'"
      ]
     },
     "execution_count": 2,
     "metadata": {},
     "output_type": "execute_result"
    }
   ],
   "source": [
    "os.getcwd()"
   ]
  },
  {
   "cell_type": "code",
   "execution_count": 15,
   "metadata": {},
   "outputs": [
    {
     "name": "stdout",
     "output_type": "stream",
     "text": [
      "共120个训练模型\n"
     ]
    }
   ],
   "source": [
    "def my_filter(path):\n",
    "    log_path = os.path.join('..', path, 'log.out')\n",
    "    log_s = open(log_path, 'r').readlines()\n",
    "    test_path = os.path.join('..', path, 'test.out')\n",
    "    test_s = open(log_path, 'r').readlines()\n",
    "    #if False:\n",
    "        #print(log_path)\n",
    "        #return False\n",
    "    #elif s[4] != 'history_length: 40\\n' and s[5] != 'forward_length: 160\\n':\n",
    "        #print(log_path)\n",
    "        #return False\n",
    "    #elif 'Error' in test_s[-2]:\n",
    "        #print(log_path)\n",
    "        #return False\n",
    "    #else:\n",
    "    return True\n",
    "    \n",
    "def generating_dir(base_dir, root_dir):\n",
    "    ret = []\n",
    "    for file in os.listdir(os.path.join(root_dir, base_dir)):\n",
    "        if file == 'tmp':\n",
    "            continue\n",
    "        path = os.path.join(base_dir, file)\n",
    "        if os.path.isdir(os.path.join(root_dir, path)):\n",
    "            ret = ret + generating_dir(path, root_dir)\n",
    "        elif file == 'log.out':                                                   #and os.path.exists(os.path.join(root_dir, base_dir, 'best.pth')):\n",
    "            if my_filter(os.path.split(path)[0]):\n",
    "                ret.append(os.path.split(path)[0])\n",
    "            else:\n",
    "                continue\n",
    "    return ret\n",
    "\n",
    "path_list = generating_dir('ckpt'+os.path.sep, '..'+os.path.sep)\n",
    "# print('\\n'.join(path_list))\n",
    "print('共%d个训练模型'%len(path_list))\n"
   ]
  },
  {
   "cell_type": "code",
   "execution_count": 16,
   "metadata": {},
   "outputs": [
    {
     "name": "stdout",
     "output_type": "stream",
     "text": [
      "Error:  ckpt/winding/ct_True/ode_rssm_schedule/ode_rssm_ct_time=True,model.iw_trajs=1,model.k_size=16,model.ode_ratio=all,model.ode_solver=rk4,model.ode_type=orth,model.state_size=16,random_seed=0,sp=0.5,train.batch_size=512,train/schedule=val_step/2022-05-04_07-49-29 KeyError: 0\n",
      " \n",
      " Lines: 883\n",
      "Error:  ckpt/winding/ct_True/ode_rssm_schedule/ode_rssm_ct_time=True,model.iw_trajs=5,model.k_size=16,model.ode_ratio=all,model.ode_solver=rk4,model.ode_type=orth,model.state_size=16,random_seed=0,sp=0.5,train.batch_size=512,train/schedule=val_step/2022-05-04_08-27-58 AssertionError\n",
      " \n",
      " Lines: 1565\n",
      "Error:  ckpt/winding/ct_True/ode_rssm/ode_rssm_ct_time=True,model.iw_trajs=10,model.k_size=16,model.ode_ratio=all,model.ode_solver=rk4,model.ode_type=orth,model.state_size=16,random_seed=0,sp=0.5,train.batch_size=512/2022-05-03_17-31-48 无模型 \n",
      " Lines: 1219\n",
      "Error:  ckpt/winding/ct_True/ode_rssm/ode_rssm_ct_time=True,model.iw_trajs=5,model.k_size=16,model.ode_ratio=all,model.ode_solver=rk4,model.ode_type=orth,model.state_size=16,random_seed=0,sp=0.5,train.batch_size=512/2022-05-03_16-24-05 AssertionError\n",
      " \n",
      " Lines: 1526\n"
     ]
    }
   ],
   "source": [
    "#检查log文件#可不可以直接找不存在best.pth的路径\n",
    "error_log_list=[]                    #错误log文件路径集合\n",
    "for t in range(len(path_list)):      #第t个临时列表中的路径\n",
    "    error_log = False\n",
    "    #print('t=',t)\n",
    "    if not os.path.exists(os.path.join('..', path_list[t], 'best.pth')):\n",
    "        error_log = True                   #存在error的标志\n",
    "        error_line = \"无模型\"\n",
    "    else:\n",
    "        f = open('..'+os.path.sep+path_list[t]+os.path.sep+'log.out','r')\n",
    "        log_data = f.readlines()\n",
    "        f.close()\n",
    "        for line in log_data[-100:]:\n",
    "            if re.search('Error',line):\n",
    "                error_log, error_line = True, line\n",
    "                break\n",
    "            if re.search('Early stopping at epoch',line):\n",
    "                error_log = False\n",
    "                break\n",
    "            if re.search('Training finished', line):\n",
    "                error_log = False\n",
    "                break\n",
    "        else:\n",
    "            if len(log_data)<1000:\n",
    "                error_log, error_line = True, 'Not finished'\n",
    "          \n",
    "    if error_log==True:\n",
    "        error_log_list.append(path_list[t])\n",
    "        print('Error: ', path_list[t], error_line, '\\n', 'Lines: %d' % len(log_data))"
   ]
  },
  {
   "cell_type": "code",
   "execution_count": 17,
   "metadata": {},
   "outputs": [
    {
     "name": "stdout",
     "output_type": "stream",
     "text": [
      "log文件报错路径如下：\n",
      "ckpt/winding/ct_True/ode_rssm_schedule/ode_rssm_ct_time=True,model.iw_trajs=1,model.k_size=16,model.ode_ratio=all,model.ode_solver=rk4,model.ode_type=orth,model.state_size=16,random_seed=0,sp=0.5,train.batch_size=512,train/schedule=val_step/2022-05-04_07-49-29\n",
      "ckpt/winding/ct_True/ode_rssm_schedule/ode_rssm_ct_time=True,model.iw_trajs=5,model.k_size=16,model.ode_ratio=all,model.ode_solver=rk4,model.ode_type=orth,model.state_size=16,random_seed=0,sp=0.5,train.batch_size=512,train/schedule=val_step/2022-05-04_08-27-58\n",
      "ckpt/winding/ct_True/ode_rssm/ode_rssm_ct_time=True,model.iw_trajs=10,model.k_size=16,model.ode_ratio=all,model.ode_solver=rk4,model.ode_type=orth,model.state_size=16,random_seed=0,sp=0.5,train.batch_size=512/2022-05-03_17-31-48\n",
      "ckpt/winding/ct_True/ode_rssm/ode_rssm_ct_time=True,model.iw_trajs=5,model.k_size=16,model.ode_ratio=all,model.ode_solver=rk4,model.ode_type=orth,model.state_size=16,random_seed=0,sp=0.5,train.batch_size=512/2022-05-03_16-24-05\n"
     ]
    },
    {
     "name": "stdin",
     "output_type": "stream",
     "text": [
      "确定删除路径文件及其所在文件夹？ 请输入'yes' or 'no' yes\n"
     ]
    },
    {
     "name": "stdout",
     "output_type": "stream",
     "text": [
      "0\n",
      "function have been triggered\n",
      "../ckpt/winding/ct_True/ode_rssm_schedule/ode_rssm_ct_time=True,model.iw_trajs=1,model.k_size=16,model.ode_ratio=all,model.ode_solver=rk4,model.ode_type=orth,model.state_size=16,random_seed=0,sp=0.5,train.batch_size=512,train/schedule=val_step/2022-05-04_07-49-29\n",
      "../ckpt/winding/ct_True/ode_rssm_schedule/ode_rssm_ct_time=True,model.iw_trajs=1,model.k_size=16,model.ode_ratio=all,model.ode_solver=rk4,model.ode_type=orth,model.state_size=16,random_seed=0,sp=0.5,train.batch_size=512,train/schedule=val_step\n",
      "function have been triggered\n",
      "../ckpt/winding/ct_True/ode_rssm_schedule/ode_rssm_ct_time=True,model.iw_trajs=1,model.k_size=16,model.ode_ratio=all,model.ode_solver=rk4,model.ode_type=orth,model.state_size=16,random_seed=0,sp=0.5,train.batch_size=512,train/schedule=val_step\n",
      "../ckpt/winding/ct_True/ode_rssm_schedule/ode_rssm_ct_time=True,model.iw_trajs=1,model.k_size=16,model.ode_ratio=all,model.ode_solver=rk4,model.ode_type=orth,model.state_size=16,random_seed=0,sp=0.5,train.batch_size=512,train\n",
      "function have been triggered\n",
      "../ckpt/winding/ct_True/ode_rssm_schedule/ode_rssm_ct_time=True,model.iw_trajs=1,model.k_size=16,model.ode_ratio=all,model.ode_solver=rk4,model.ode_type=orth,model.state_size=16,random_seed=0,sp=0.5,train.batch_size=512,train\n",
      "../ckpt/winding/ct_True/ode_rssm_schedule\n",
      "Delete accomplished\n",
      "1\n",
      "function have been triggered\n",
      "../ckpt/winding/ct_True/ode_rssm_schedule/ode_rssm_ct_time=True,model.iw_trajs=5,model.k_size=16,model.ode_ratio=all,model.ode_solver=rk4,model.ode_type=orth,model.state_size=16,random_seed=0,sp=0.5,train.batch_size=512,train/schedule=val_step/2022-05-04_08-27-58\n",
      "../ckpt/winding/ct_True/ode_rssm_schedule/ode_rssm_ct_time=True,model.iw_trajs=5,model.k_size=16,model.ode_ratio=all,model.ode_solver=rk4,model.ode_type=orth,model.state_size=16,random_seed=0,sp=0.5,train.batch_size=512,train/schedule=val_step\n",
      "function have been triggered\n",
      "../ckpt/winding/ct_True/ode_rssm_schedule/ode_rssm_ct_time=True,model.iw_trajs=5,model.k_size=16,model.ode_ratio=all,model.ode_solver=rk4,model.ode_type=orth,model.state_size=16,random_seed=0,sp=0.5,train.batch_size=512,train/schedule=val_step\n",
      "../ckpt/winding/ct_True/ode_rssm_schedule/ode_rssm_ct_time=True,model.iw_trajs=5,model.k_size=16,model.ode_ratio=all,model.ode_solver=rk4,model.ode_type=orth,model.state_size=16,random_seed=0,sp=0.5,train.batch_size=512,train\n",
      "function have been triggered\n",
      "../ckpt/winding/ct_True/ode_rssm_schedule/ode_rssm_ct_time=True,model.iw_trajs=5,model.k_size=16,model.ode_ratio=all,model.ode_solver=rk4,model.ode_type=orth,model.state_size=16,random_seed=0,sp=0.5,train.batch_size=512,train\n",
      "../ckpt/winding/ct_True/ode_rssm_schedule\n",
      "Delete accomplished\n",
      "2\n",
      "function have been triggered\n",
      "../ckpt/winding/ct_True/ode_rssm/ode_rssm_ct_time=True,model.iw_trajs=10,model.k_size=16,model.ode_ratio=all,model.ode_solver=rk4,model.ode_type=orth,model.state_size=16,random_seed=0,sp=0.5,train.batch_size=512/2022-05-03_17-31-48\n",
      "../ckpt/winding/ct_True/ode_rssm/ode_rssm_ct_time=True,model.iw_trajs=10,model.k_size=16,model.ode_ratio=all,model.ode_solver=rk4,model.ode_type=orth,model.state_size=16,random_seed=0,sp=0.5,train.batch_size=512\n",
      "function have been triggered\n",
      "../ckpt/winding/ct_True/ode_rssm/ode_rssm_ct_time=True,model.iw_trajs=10,model.k_size=16,model.ode_ratio=all,model.ode_solver=rk4,model.ode_type=orth,model.state_size=16,random_seed=0,sp=0.5,train.batch_size=512\n",
      "../ckpt/winding/ct_True/ode_rssm\n",
      "Delete accomplished\n",
      "3\n",
      "function have been triggered\n",
      "../ckpt/winding/ct_True/ode_rssm/ode_rssm_ct_time=True,model.iw_trajs=5,model.k_size=16,model.ode_ratio=all,model.ode_solver=rk4,model.ode_type=orth,model.state_size=16,random_seed=0,sp=0.5,train.batch_size=512/2022-05-03_16-24-05\n",
      "../ckpt/winding/ct_True/ode_rssm/ode_rssm_ct_time=True,model.iw_trajs=5,model.k_size=16,model.ode_ratio=all,model.ode_solver=rk4,model.ode_type=orth,model.state_size=16,random_seed=0,sp=0.5,train.batch_size=512\n",
      "function have been triggered\n",
      "../ckpt/winding/ct_True/ode_rssm/ode_rssm_ct_time=True,model.iw_trajs=5,model.k_size=16,model.ode_ratio=all,model.ode_solver=rk4,model.ode_type=orth,model.state_size=16,random_seed=0,sp=0.5,train.batch_size=512\n",
      "../ckpt/winding/ct_True/ode_rssm\n",
      "Delete accomplished\n"
     ]
    }
   ],
   "source": [
    "def Delete_log(path):\n",
    "    print(\"function have been triggered\")\n",
    "    print(path)\n",
    "    shutil.rmtree(path)         #删除当前目录文件夹以及文件夹内的所有文件\n",
    "    path=os.path.dirname(path)\n",
    "    print(path)\n",
    "    if not os.listdir(path):\n",
    "        Delete_log(path)\n",
    "    else:\n",
    "        print(\"Delete accomplished\")\n",
    "        return 0\n",
    "Delete_list=[]\n",
    "if error_log_list:\n",
    "    print(\"log文件报错路径如下：\")\n",
    "    for line in range(len(error_log_list)):\n",
    "        Delete_list.append(error_log_list[line])\n",
    "        print(Delete_list[line])\n",
    "    ju=input(\"确定删除路径文件及其所在文件夹？ 请输入'yes' or 'no'\")\n",
    "    if ju=='yes':\n",
    "        for line in range(len(Delete_list)):\n",
    "            print(line)\n",
    "            Delete_log('..'+os.path.sep+Delete_list[line])\n",
    "    else:\n",
    "        print(\"删除取消，保留路径文件\")\n",
    "else:\n",
    "    print('未发现log文件报错')"
   ]
  },
  {
   "cell_type": "code",
   "execution_count": null,
   "metadata": {},
   "outputs": [],
   "source": []
  }
 ],
 "metadata": {
  "kernelspec": {
   "display_name": "Python 3",
   "language": "python",
   "name": "python3"
  },
  "language_info": {
   "codemirror_mode": {
    "name": "ipython",
    "version": 3
   },
   "file_extension": ".py",
   "mimetype": "text/x-python",
   "name": "python",
   "nbconvert_exporter": "python",
   "pygments_lexer": "ipython3",
   "version": "3.8.5"
  }
 },
 "nbformat": 4,
 "nbformat_minor": 4
}
