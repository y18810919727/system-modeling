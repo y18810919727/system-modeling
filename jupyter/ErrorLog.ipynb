{
 "cells": [
  {
   "cell_type": "code",
   "execution_count": 1,
   "metadata": {},
   "outputs": [],
   "source": [
    "import os\n",
    "import shutil\n",
    "import re"
   ]
  },
  {
   "cell_type": "code",
   "execution_count": 2,
   "metadata": {},
   "outputs": [
    {
     "data": {
      "text/plain": [
       "'/home/yuanzhaolin/VAE-AKF/jupyter'"
      ]
     },
     "execution_count": 2,
     "metadata": {},
     "output_type": "execute_result"
    }
   ],
   "source": [
    "os.getcwd()"
   ]
  },
  {
   "cell_type": "code",
   "execution_count": 9,
   "metadata": {},
   "outputs": [
    {
     "name": "stdout",
     "output_type": "stream",
     "text": [
      "ckpt/cstr/vaecl_net_decoder/vaecl_model.D=10/2020-11-30_14-04-57\n",
      "ckpt/cstr/vaecl_net_decoder/vaecl_model.D=20/2020-12-01_09-51-14\n",
      "ckpt/cstr/vaecl_net_decoder/vaecl_model.D=5/2020-11-30_09-23-27\n",
      "ckpt/cstr/vaecl_net_decoder/vaecl_model.D=1/2020-11-30_07-00-34\n",
      "ckpt/cstr/vaecl_net_decoder/vaecl_model.D=15/2020-11-30_22-14-44\n",
      "ckpt/cstr/srnn_overshooting/srnn_model.D=5/2020-11-30_13-38-58\n",
      "ckpt/cstr/srnn_overshooting/srnn_model.D=10/2020-11-30_15-34-41\n",
      "ckpt/cstr/srnn/srnn_model.D=1/2020-12-02_13-04-20\n",
      "ckpt/cstr/srnn/srnn_model.D=5/2020-12-02_19-07-53\n",
      "ckpt/cstr/srnn/srnn_model.D=3/2020-12-02_15-44-21\n",
      "ckpt/cstr/srnn/srnn_/2020-11-25_14-57-52\n",
      "ckpt/cstr/vrnn_overshooting/vrnn_model.D=5/2020-11-30_14-43-24\n",
      "ckpt/cstr/vaecl/vaecl_model.D=10/2020-11-30_01-19-48\n",
      "ckpt/cstr/vaecl/vaecl_model.D=3/2020-12-01_07-40-36\n",
      "ckpt/cstr/vaecl/vaecl_model.D=3/2020-12-01_07-41-34\n",
      "ckpt/cstr/vaecl/vaecl_model.D=5/2020-12-01_09-30-04\n",
      "ckpt/cstr/vaecl/vaecl_model.D=5/2020-11-29_17-21-47\n",
      "ckpt/cstr/vaecl/vaecl_model.D=5/2020-12-01_08-43-09\n",
      "ckpt/cstr/vaecl/vaecl_model.D=1/2020-12-01_07-13-54\n",
      "ckpt/cstr/vaecl/vaecl_model.D=1/2020-11-29_14-11-52\n",
      "ckpt/cstr/vaecl/vaecl_model.D=1/2020-12-01_07-13-00\n",
      "ckpt/cstr/vcl/model.D=1,model.dynamic.num_linears=4,model.k_size=8/2020-11-24_08-47-10\n",
      "ckpt/cstr/vcl/model.D=5,model.dynamic.num_linears=4,model.k_size=8/2020-11-24_14-19-47\n",
      "ckpt/cstr/vcl/model.D=10,model.dynamic.num_linears=4,model.k_size=16/2020-11-25_02-55-44\n",
      "ckpt/cstr/vcl/vaecl_model.D=15,model.dynamic.num_linears=8,model.k_size=16/2020-11-26_01-15-22\n",
      "ckpt/cstr/vcl/model.D=1,model.dynamic.num_linears=8,model.k_size=8/2020-11-24_11-17-15\n",
      "ckpt/cstr/vcl/model.D=10,model.dynamic.num_linears=8,model.k_size=8/2020-11-25_06-55-32\n",
      "ckpt/cstr/vcl/model.D=5,model.dynamic.num_linears=8,model.k_size=8/2020-11-24_19-11-14\n",
      "ckpt/cstr/vcl/model.D=5,model.dynamic.num_linears=8,model.k_size=16/2020-11-24_21-49-49\n",
      "ckpt/cstr/vcl/model.D=1,model.dynamic.num_linears=8,model.k_size=16/2020-11-24_12-44-15\n",
      "ckpt/cstr/vcl/model.D=10,model.dynamic.num_linears=4,model.k_size=8/2020-11-24_23-52-55\n",
      "ckpt/cstr/vcl/model.D=5,model.dynamic.num_linears=4,model.k_size=16/2020-11-24_16-57-06\n",
      "ckpt/cstr/vcl/model.D=1,model.dynamic.num_linears=4,model.k_size=16/2020-11-24_09-53-09\n",
      "ckpt/cstr/vcl/model.D=10,model.dynamic.num_linears=8,model.k_size=16/2020-11-25_10-23-08\n",
      "ckpt/cstr/vcl/model.D=15,model.dynamic.num_linears=4,model.k_size=8/2020-11-25_13-43-22\n",
      "ckpt/cstr/vcl/vaecl_model.D=15,model.dynamic.num_linears=4,model.k_size=16/2020-11-25_19-24-32\n",
      "ckpt/cstr/vcl/vaecl_model.D=15,model.dynamic.num_linears=8,model.k_size=8/2020-11-25_22-05-22\n",
      "ckpt/cstr/vrnn/vrnn_model.D=1/2020-12-01_07-09-41\n",
      "ckpt/cstr/vrnn/vrnn_model.D=3/2020-12-01_11-50-35\n",
      "ckpt/cstr/vrnn/vrnn_model.D=5/2020-12-02_13-22-30\n",
      "ckpt/cstr/vrnn/vrnn_/2020-11-28_08-51-15\n",
      "ckpt/west_con/west_con1/vrnn_model.D=1/2020-12-24_14-51-13\n",
      "ckpt/west_con/west_con1/srnn_model.D=1/2020-12-24_15-15-55\n",
      "ckpt/west_con/west_con1/vrnn_model.D=3/2020-12-24_15-03-24\n",
      "ckpt/west_con/west_con1/vaecl_model.D=3/2020-12-24_15-48-47\n",
      "ckpt/west_con/west_con1/srnn_model.D=3/2020-12-24_15-28-49\n",
      "ckpt/west_con/west_con1/vaecl_model.D=1/2020-12-24_15-42-02\n",
      "ckpt/west_con/west_con_k8/vrnn_model.D=1,model.k_size=8/2020-12-25_05-06-48\n",
      "ckpt/west_con/west_con_k8/srnn_model.D=1,model.k_size=8/2020-12-25_05-35-40\n",
      "ckpt/west_con/west_con_k8/srnn_model.D=3,model.k_size=8/2020-12-25_05-50-17\n",
      "ckpt/west_con/west_con_k8/vrnn_model.D=3,model.k_size=8/2020-12-25_05-21-31\n",
      "ckpt/west/vaecl_net_decoder/vaecl_model.D=10/2020-11-30_19-03-18\n",
      "ckpt/west/vaecl_net_decoder/vaecl_model.D=5/2020-11-30_12-11-50\n",
      "ckpt/west/vaecl_net_decoder/vaecl_model.D=1/2020-11-30_08-05-18\n",
      "ckpt/west/vaecl_net_decoder/vaecl_model.D=15/2020-12-01_05-26-31\n",
      "ckpt/west/srnn_overshooting/srnn_model.D=5/2020-11-30_21-39-22\n",
      "ckpt/west/srnn_overshooting/srnn_model.D=10/2020-11-30_22-18-36\n",
      "ckpt/west/srnn/srnn_model.D=1/2020-12-03_02-48-55\n",
      "ckpt/west/srnn/srnn_model.D=5/2020-12-03_08-34-29\n",
      "ckpt/west/srnn/srnn_model.D=3/2020-12-03_06-32-27\n",
      "ckpt/west/srnn/srnn_/2020-11-25_21-46-40\n",
      "ckpt/west/srnn/vaecl_/2020-11-25_14-19-29\n",
      "ckpt/west/vrnn_overshooting/vrnn_model.D=5/2020-11-30_18-35-19\n",
      "ckpt/west/vaecl/vaecl_model.D=3/2020-12-01_13-44-08\n",
      "ckpt/west/vaecl/vaecl_model.D=3/2020-12-01_13-35-32\n",
      "ckpt/west/vaecl/vaecl_model.D=5/2020-11-29_22-12-03\n",
      "ckpt/west/vaecl/vaecl_model.D=5/2020-12-01_14-56-24\n",
      "ckpt/west/vaecl/vaecl_model.D=5/2020-12-01_14-36-25\n",
      "ckpt/west/vaecl/vaecl_model.D=1/2020-11-29_16-23-01\n",
      "ckpt/west/vaecl/vaecl_model.D=1/2020-12-01_12-52-36\n",
      "ckpt/west/vaecl/vaecl_model.D=1/2020-12-01_12-59-38\n",
      "ckpt/west/best/2020-12-03_07-20-37\n",
      "ckpt/west/vrnn/vrnn_model.D=1/2020-12-03_03-43-54\n",
      "ckpt/west/vrnn/vrnn_model.D=3/2020-12-03_07-20-37\n",
      "ckpt/west/vrnn/vrnn_model.D=5/2020-12-03_11-40-14\n",
      "ckpt/west/vrnn/vrnn_/2020-11-28_21-59-55\n",
      "ckpt/winding/vaecl_net_decoder/vaecl_model.D=10/2020-11-30_16-42-39\n",
      "ckpt/winding/vaecl_net_decoder/vaecl_model.D=20/2020-12-01_19-11-48\n",
      "ckpt/winding/vaecl_net_decoder/vaecl_model.D=5/2020-11-30_11-11-53\n",
      "ckpt/winding/vaecl_net_decoder/vaecl_model.D=1/2020-11-30_07-37-13\n",
      "ckpt/winding/vaecl_net_decoder/vaecl_model.D=15/2020-12-01_02-58-23\n",
      "ckpt/winding/srnn_overshooting/srnn_model.D=5/2020-11-30_17-22-42\n",
      "ckpt/winding/srnn_overshooting/srnn_model.D=10/2020-11-30_19-26-03\n",
      "ckpt/winding/srnn/srnn_model.D=1/2020-12-02_22-35-24\n",
      "ckpt/winding/srnn/srnn_model.D=5/2020-12-03_01-23-11\n",
      "ckpt/winding/srnn/srnn_model.D=3/2020-12-02_23-58-35\n",
      "ckpt/winding/srnn/srnn_/2020-11-25_19-48-03\n",
      "ckpt/winding/srnn/vaecl_/2020-11-25_14-19-27\n",
      "ckpt/winding/vrnn_overshooting/vrnn_model.D=5/2020-11-30_16-03-22\n",
      "ckpt/winding/vaecl/vaecl_model.D=3/2020-12-01_11-15-52\n",
      "ckpt/winding/vaecl/vaecl_model.D=3/2020-12-01_11-15-02\n",
      "ckpt/winding/vaecl/vaecl_model.D=5/2020-11-29_20-42-05\n",
      "ckpt/winding/vaecl/vaecl_model.D=5/2020-12-01_12-07-01\n",
      "ckpt/winding/vaecl/vaecl_model.D=5/2020-12-01_12-06-05\n",
      "ckpt/winding/vaecl/vaecl_model.D=1/2020-12-01_10-43-25\n",
      "ckpt/winding/vaecl/vaecl_model.D=1/2020-12-01_10-43-27\n",
      "ckpt/winding/vaecl/vaecl_model.D=1/2020-11-29_15-45-38\n",
      "ckpt/winding/vrnn/vrnn_model.D=1/2020-12-02_19-30-27\n",
      "ckpt/winding/vrnn/vrnn_model.D=3/2020-12-02_22-10-52\n",
      "ckpt/winding/vrnn/vrnn_/2020-11-28_13-19-37\n"
     ]
    }
   ],
   "source": [
    "def my_filter(path):\n",
    "    log_path = os.path.join('..', path, 'log.out')\n",
    "    log_s = open(log_path, 'r').readlines()\n",
    "    test_path = os.path.join('..', path, 'test.out')\n",
    "    test_s = open(log_path, 'r').readlines()\n",
    "    #if False:\n",
    "        #print(log_path)\n",
    "        #return False\n",
    "    #elif s[4] != 'history_length: 40\\n' and s[5] != 'forward_length: 160\\n':\n",
    "        #print(log_path)\n",
    "        #return False\n",
    "    #elif 'Error' in test_s[-2]:\n",
    "        #print(log_path)\n",
    "        #return False\n",
    "    #else:\n",
    "    return True\n",
    "    \n",
    "def generating_dir(base_dir, root_dir):\n",
    "    ret = []\n",
    "    for file in os.listdir(os.path.join(root_dir, base_dir)):\n",
    "        if file == 'tmp':\n",
    "            continue\n",
    "        path = os.path.join(base_dir, file)\n",
    "        if os.path.isdir(os.path.join(root_dir, path)):\n",
    "            ret = ret + generating_dir(path, root_dir)\n",
    "        elif file == 'log.out':                                                   #and os.path.exists(os.path.join(root_dir, base_dir, 'best.pth')):\n",
    "            if my_filter(os.path.split(path)[0]):\n",
    "                ret.append(os.path.split(path)[0])\n",
    "            else:\n",
    "                continue\n",
    "    return ret\n",
    "\n",
    "path_list = generating_dir('ckpt'+os.path.sep, '..'+os.path.sep)\n",
    "print('\\n'.join(path_list))\n"
   ]
  },
  {
   "cell_type": "code",
   "execution_count": 6,
   "metadata": {},
   "outputs": [
    {
     "name": "stdout",
     "output_type": "stream",
     "text": [
      "ckpt/cstr/vaecl/vaecl_model.D=10/2020-11-30_01-19-48\n",
      "find error\n",
      "ckpt/west/srnn/vaecl_/2020-11-25_14-19-29\n",
      "find error\n",
      "ckpt/winding/srnn/vaecl_/2020-11-25_14-19-27\n",
      "find error\n"
     ]
    }
   ],
   "source": [
    "#检查log文件#可不可以直接找不存在best.pth的路径\n",
    "error_log_list=[]                    #错误log文件路径集合\n",
    "for t in range(len(path_list)):      #第t个临时列表中的路径\n",
    "    error_log=True                   #存在error的标志\n",
    "    #print('t=',t)\n",
    "    f = open('..'+os.path.sep+path_list[t]+os.path.sep+'log.out','r')\n",
    "    log_data = f.readlines()\n",
    "    f.close()\n",
    "    for line in range(len(log_data)):\n",
    "        if re.search('Early stopping at epoch',log_data[line]):\n",
    "            error_log=False\n",
    "            #print(line,len(log_data))\n",
    "            #print('find it')\n",
    "    if error_log==True:\n",
    "        error_log_list.append(path_list[t])\n",
    "        print(path_list[t])\n",
    "        print('find error')"
   ]
  },
  {
   "cell_type": "code",
   "execution_count": 7,
   "metadata": {},
   "outputs": [],
   "source": [
    "def Delete_log(path):\n",
    "    print(\"function have been triggered\")\n",
    "    print(path)\n",
    "    shutil.rmtree(path)         #删除当前目录文件夹以及文件夹内的所有文件\n",
    "    path=os.path.dirname(path)\n",
    "    print(path)\n",
    "    if not os.listdir(path):\n",
    "        Delete_log(path)\n",
    "    else:\n",
    "        print(\"Delete accomplished\")\n",
    "        return 0\n",
    "   "
   ]
  },
  {
   "cell_type": "code",
   "execution_count": 10,
   "metadata": {},
   "outputs": [
    {
     "name": "stdout",
     "output_type": "stream",
     "text": [
      "log文件报错路径如下：\n",
      "ckpt/cstr/vaecl/vaecl_model.D=10/2020-11-30_01-19-48\n",
      "ckpt/west/srnn/vaecl_/2020-11-25_14-19-29\n",
      "ckpt/winding/srnn/vaecl_/2020-11-25_14-19-27\n"
     ]
    },
    {
     "name": "stdin",
     "output_type": "stream",
     "text": [
      "确定删除路径文件及其所在文件夹？ 请输入'yes' or 'no' yes\n"
     ]
    },
    {
     "name": "stdout",
     "output_type": "stream",
     "text": [
      "0\n",
      "function have been triggered\n",
      "../ckpt/cstr/vaecl/vaecl_model.D=10/2020-11-30_01-19-48\n",
      "../ckpt/cstr/vaecl/vaecl_model.D=10\n",
      "function have been triggered\n",
      "../ckpt/cstr/vaecl/vaecl_model.D=10\n",
      "../ckpt/cstr/vaecl\n",
      "Delete accomplished\n",
      "1\n",
      "function have been triggered\n",
      "../ckpt/west/srnn/vaecl_/2020-11-25_14-19-29\n",
      "../ckpt/west/srnn/vaecl_\n",
      "function have been triggered\n",
      "../ckpt/west/srnn/vaecl_\n",
      "../ckpt/west/srnn\n",
      "Delete accomplished\n",
      "2\n",
      "function have been triggered\n",
      "../ckpt/winding/srnn/vaecl_/2020-11-25_14-19-27\n",
      "../ckpt/winding/srnn/vaecl_\n",
      "function have been triggered\n",
      "../ckpt/winding/srnn/vaecl_\n",
      "../ckpt/winding/srnn\n",
      "Delete accomplished\n"
     ]
    }
   ],
   "source": [
    "Delete_list=[]\n",
    "if error_log_list:\n",
    "    print(\"log文件报错路径如下：\")\n",
    "    for line in range(len(error_log_list)):\n",
    "        Delete_list.append(error_log_list[line])\n",
    "        print(Delete_list[line])\n",
    "    ju=input(\"确定删除路径文件及其所在文件夹？ 请输入'yes' or 'no'\")\n",
    "    if ju=='yes':\n",
    "        for line in range(len(Delete_list)):\n",
    "            print(line)\n",
    "            Delete_log('..'+os.path.sep+Delete_list[line])\n",
    "    else:\n",
    "        print(\"删除取消，保留路径文件\")\n",
    "else:\n",
    "    print('未发现log文件报错')"
   ]
  },
  {
   "cell_type": "code",
   "execution_count": null,
   "metadata": {},
   "outputs": [],
   "source": []
  }
 ],
 "metadata": {
  "kernelspec": {
   "display_name": "Python 3",
   "language": "python",
   "name": "python3"
  },
  "language_info": {
   "codemirror_mode": {
    "name": "ipython",
    "version": 3
   },
   "file_extension": ".py",
   "mimetype": "text/x-python",
   "name": "python",
   "nbconvert_exporter": "python",
   "pygments_lexer": "ipython3",
   "version": "3.6.9"
  }
 },
 "nbformat": 4,
 "nbformat_minor": 4
}